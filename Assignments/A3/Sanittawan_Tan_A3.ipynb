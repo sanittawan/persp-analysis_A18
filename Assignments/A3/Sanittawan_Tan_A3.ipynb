{
 "cells": [
  {
   "cell_type": "markdown",
   "metadata": {},
   "source": [
    "# Assignment #3 "
   ]
  },
  {
   "cell_type": "markdown",
   "metadata": {},
   "source": [
    "### MACS 30000, Dr. Evans \n",
    "\n",
    "### Sanittawan Tan (sanittawan) \n",
    "Note: I still have errors converting Jupyter notebook to pdf. Some parts of part 1 will be cut off. Please refer to the pdf file of Part 1 instead. Thank you for your understanding and apologies for the inconvenience. "
   ]
  },
  {
   "cell_type": "markdown",
   "metadata": {},
   "source": [
    "### Part 1: A Response to Moretti's Simulation in Sociology paper \n",
    "Please see attached pdf file"
   ]
  },
  {
   "cell_type": "markdown",
   "metadata": {},
   "source": [
    "In her article *Computer Simulation in Sociology: What Contribution?*, Moretti surveyed four main techniques of simulation that have been used in sociology, namely system dynamics, multiagent systems, cellular automata, and genetic algorithms, and discuss their contribution to sociology. Although computer simulation is a promising method that can be beneficial for many fields in the social sciences, some weaknesses still remain. This paper discusses some of the potential weaknesses of certain methods in simulation, gives an example of the application of dynamic feedback in Sociology and explores future research questions in Political Science. \n",
    "\n",
    "As Moretti nicely summarized, the main weakness of a computer simulation regardless of techniques is that the validity of a simulation largely depends on two elements: the validity of the theory that the model is based on and the validity of the computational tools used for such simulation. In other words, if the theory that supports a simulation does not accurately capture the reality, the simulation will not be valid. Take multiagent systems technique as a case in point. Simulations based on multiagent systems are very useful for studying how autonomous agents in a system interact and causes a structure to emerge over time. However, its potential weakness is that such simulation must include \"a detailed list of rules of agents' behavior, that is, protocols of communications and decision-making procedures that consider environmental changes and all interactions with other agents in that systems.\" The model relies on researchers' understanding of these rules and, additionally, accurately model them into the simulation. Moreover, researchers also have to make assumptions regarding an agent in the system; for instance, some models begin from the assumption that an agent is a rational actor. Although this is a fairly standard assumption across many theories in the social sciences and can easily be modeled into a simulation, one may question if an agent is indeed *always* a rational actor. \n",
    "\n",
    "Cellular automata technique which is a particular kind of multiagent system may also suffer from similar problems. This is because cellular automata assume that agents in a system have \"a specific and determined position in a lattice\" and behave and interact homogeneously. What if agents do not act homogeneously? How do we deal with outliers? It seems to me that its strength, which is simplicity, is also its weakness. As Moretti pointed out, cellular automata assume \"synchronous updating\" as in biology, but individual agents in a society may have a different timeline in \"updating\" such as developing opinions. Another limitation of cellular automata that the author discussed is the difficulty in defining neighborhood or boundary that individuals in a society interact. This stems from the fact the model establishes that individuals interact solely with a subset of a population. However, in reality, that subset is hard to define taken into account the advent of the internet and technology and that particular subset also changes over time.           \n",
    "\n",
    "Another problem of simulation validity is that it is difficult to set criteria and measurement for validity. It seems that social scientists who wish to use simulation still have to develop standardized tools or methods for evaluating if a study is valid. Although potential weaknesses discussed so far remain challenges for future research, some models such as system dynamics can still be useful for explaining and discovering relationships in a complex system, especially how an action causes a change in the system which, in turn, causes another change. \n",
    "\n",
    "Developed by Jay Forrester of MIT Sloan School of Management in the 1950s, system dynamics is a model for studying complex systems taken into account agents' actions. System dynamics has wide application in Sociology. For example, the model translates conflict theory, which posits that society functions in a way that individuals and their respective groups maximize their benefits which lead to conflicts among groups and eventually social change, propagated by Marx and Weber into a practical simulation. Researchers may use a toolkit such as SWARM developed by the Santa Fe Institute to model how interests groups compete in the policy-making process. An example of sociological models concerning dynamic feedback that Moretti cited is the work of Doran et al. (1994), *The EOS project: Modelling Upper Paleolithic social change*, which sought to understand circumstances that contribute to the formation of hierarchies in a society. Without simulation, it is nearly impossible to recreate the circumstances of the Upper Paleolithic era.      \n",
    "\n",
    "A potential application of system dynamics in Political Science, especially the feedback loops, leads to many interesting questions. For instance, in International Relations subfield, one may study how the norm of Responsibility to Protect (R2P) emerged from the struggle between civil societies and states and how R2P shapes and changes state behaviors and the concept of sovereignty. The acceptance of R2P, which maintains that every nation has the responsibility to protect all of their citizens regardless of political, racial and religious affiliations to prevent genocide, ethnic cleansing and other human rights violations, at the United Nations is a major milestone because it allows the United Nations and other countries to intervene to stop crimes against humanities in a country. Since R2P clearly weakens the concept of sovereignty, we may be able to use system dynamics to simulate how this change affects behaviors of all states and the international system and if the norm leads to a formation of a group of states that are working on undermining the norm. Another interesting research question could be the study of how increasing the number of immigrant workers or accepting more refugees into a country affects demography and politics. For instance, countries like Japan and Singapore which are facing population problems because there are increasingly fewer young workers may use simulation to understand how increasing the number of immigrant workers can affect the country's demography and eventually politics in the long run. In the short run, one may think that importing workers can solve labor supply shortages in key industries. However, there are potential long-run effects that result from this change in population. Will more immigrant workers who are racially and culturally different from its citizens give rise to a right-wing nationalist party because the country's citizens feel threatened by the potential loss of homogeneity? Or will increased immigrants indeed economically benefit the country by raising productivity level and quality of life and contribute to more multiculturalism? Simulated data and simulation are clearly useful in both cases because policymakers can look at predicted results without implementing the policy if researchers model states and citizens behaviors accurately. Moreover, there are dynamic feedbacks as one change leads to another change in both cases.  \n",
    "\n",
    "Despite its weaknesses, computer simulation can be applied to various study in the social sciences. Its main strength is that it enables social scientists to simulate the real world without making an impact. In other words, computer simulation makes possible studies that are impossible to do by observational studies and experiments. However, researchers have to pay attention to underlying assumptions and limitations of simulation before generalizing the results.\n"
   ]
  },
  {
   "cell_type": "markdown",
   "metadata": {},
   "source": [
    "### Part 2: Silmulating your income"
   ]
  },
  {
   "cell_type": "code",
   "execution_count": 1,
   "metadata": {},
   "outputs": [],
   "source": [
    "# Import initial packages\n",
    "import numpy as np\n",
    "import matplotlib.pyplot as plt\n",
    "from matplotlib.ticker import MultipleLocator"
   ]
  },
  {
   "cell_type": "markdown",
   "metadata": {},
   "source": [
    "#### part (a) "
   ]
  },
  {
   "cell_type": "code",
   "execution_count": 2,
   "metadata": {},
   "outputs": [],
   "source": [
    "p = {\n",
    "    'w0': 80000,\n",
    "    'gr': 0.025, \n",
    "    'st_year': 2020,\n",
    "    'lf_years': 40,\n",
    "    'num_draws': 10000, \n",
    "    'rho': 0.4,\n",
    "    'mean': 0,\n",
    "    'sd': 0.13,\n",
    "    'size': (40,10000) \n",
    "}"
   ]
  },
  {
   "cell_type": "code",
   "execution_count": 3,
   "metadata": {},
   "outputs": [
    {
     "data": {
      "text/plain": [
       "array([[-0.1861917 ,  0.20573424,  0.24235592, ...,  0.21026495,\n",
       "        -0.09975796, -0.15212711],\n",
       "       [ 0.05973327, -0.2689247 , -0.05653301, ..., -0.25798775,\n",
       "        -0.04607823,  0.05277632],\n",
       "       [-0.08396151, -0.15168482,  0.08169169, ..., -0.13978135,\n",
       "         0.11631367, -0.02473229],\n",
       "       ...,\n",
       "       [ 0.3148506 ,  0.0311664 , -0.12613043, ..., -0.22229771,\n",
       "         0.20639003,  0.00992186],\n",
       "       [ 0.00219802, -0.04190169,  0.00128297, ...,  0.06673485,\n",
       "        -0.06246006, -0.01250838],\n",
       "       [-0.10437421, -0.2318872 , -0.17819712, ...,  0.18351762,\n",
       "         0.10146635,  0.05648267]])"
      ]
     },
     "execution_count": 3,
     "metadata": {},
     "output_type": "execute_result"
    }
   ],
   "source": [
    "np.random.seed(524)\n",
    "errors = np.random.normal(p['mean'], p['sd'], p['size'])\n",
    "errors"
   ]
  },
  {
   "cell_type": "code",
   "execution_count": 4,
   "metadata": {},
   "outputs": [
    {
     "data": {
      "text/plain": [
       "(40, 10000)"
      ]
     },
     "execution_count": 4,
     "metadata": {},
     "output_type": "execute_result"
    }
   ],
   "source": [
    "errors.shape"
   ]
  },
  {
   "cell_type": "code",
   "execution_count": 5,
   "metadata": {},
   "outputs": [
    {
     "data": {
      "text/plain": [
       "array([[0., 0., 0., ..., 0., 0., 0.],\n",
       "       [0., 0., 0., ..., 0., 0., 0.],\n",
       "       [0., 0., 0., ..., 0., 0., 0.],\n",
       "       ...,\n",
       "       [0., 0., 0., ..., 0., 0., 0.],\n",
       "       [0., 0., 0., ..., 0., 0., 0.],\n",
       "       [0., 0., 0., ..., 0., 0., 0.]])"
      ]
     },
     "execution_count": 5,
     "metadata": {},
     "output_type": "execute_result"
    }
   ],
   "source": [
    "ln_income_matrix = np.zeros((p['lf_years'], p['num_draws']))\n",
    "ln_income_matrix"
   ]
  },
  {
   "cell_type": "code",
   "execution_count": 6,
   "metadata": {},
   "outputs": [
    {
     "data": {
      "text/plain": [
       "(40, 10000)"
      ]
     },
     "execution_count": 6,
     "metadata": {},
     "output_type": "execute_result"
    }
   ],
   "source": [
    "ln_income_matrix.shape"
   ]
  },
  {
   "cell_type": "code",
   "execution_count": 7,
   "metadata": {},
   "outputs": [
    {
     "data": {
      "text/plain": [
       "array([[11.10359022, 11.49551615, 11.53213783, ..., 11.50004686,\n",
       "        11.19002396, 11.1376548 ],\n",
       "       [ 0.        ,  0.        ,  0.        , ...,  0.        ,\n",
       "         0.        ,  0.        ],\n",
       "       [ 0.        ,  0.        ,  0.        , ...,  0.        ,\n",
       "         0.        ,  0.        ],\n",
       "       ...,\n",
       "       [ 0.        ,  0.        ,  0.        , ...,  0.        ,\n",
       "         0.        ,  0.        ],\n",
       "       [ 0.        ,  0.        ,  0.        , ...,  0.        ,\n",
       "         0.        ,  0.        ],\n",
       "       [ 0.        ,  0.        ,  0.        , ...,  0.        ,\n",
       "         0.        ,  0.        ]])"
      ]
     },
     "execution_count": 7,
     "metadata": {},
     "output_type": "execute_result"
    }
   ],
   "source": [
    "ln_income_matrix[0, :] = np.log(p['w0']) + errors[0, :]\n",
    "ln_income_matrix"
   ]
  },
  {
   "cell_type": "code",
   "execution_count": 8,
   "metadata": {},
   "outputs": [],
   "source": [
    "for yr in range(1, p['lf_years']):\n",
    "    ln_income_matrix[yr, :] = (1 - p['rho'])*(np.log(p['w0']) + p['gr']*yr) + \\\n",
    "         p['rho']*(ln_income_matrix[yr-1, :]) + errors[yr, :]\n",
    "ln_income_matrix = np.exp(ln_income_matrix) #dealing with large numbers so put in terms of 10k's"
   ]
  },
  {
   "cell_type": "code",
   "execution_count": 9,
   "metadata": {},
   "outputs": [
    {
     "data": {
      "text/plain": [
       "array([[ 66409.15585396,  98274.13534194, 101939.81109509, ...,\n",
       "         98720.39690442,  72404.51636886,  68710.32820307],\n",
       "       [ 80020.53020329,  67383.19350738,  84557.85626308, ...,\n",
       "         68247.7770509 ,  74518.33613244,  80555.96068584],\n",
       "       [ 75805.26636606,  66134.42494243,  91458.20304692, ...,\n",
       "         67268.53350159,  90012.42673528,  80645.62355527],\n",
       "       ...,\n",
       "       [272690.56519108, 217821.73027242, 184724.24512469, ...,\n",
       "        159922.45424852, 253961.68337673, 209741.55004062],\n",
       "       [231539.17420799, 202509.15149494, 197955.96626493, ...,\n",
       "        199502.43481758, 210951.71828579, 205420.27946389],\n",
       "       [197895.95201384, 165115.10025278, 172644.86927513, ...,\n",
       "        248654.44847819, 234237.14656466, 221566.29879732]])"
      ]
     },
     "execution_count": 9,
     "metadata": {},
     "output_type": "execute_result"
    }
   ],
   "source": [
    "ln_income_matrix"
   ]
  },
  {
   "cell_type": "code",
   "execution_count": 10,
   "metadata": {},
   "outputs": [
    {
     "data": {
      "text/plain": [
       "Text(0, 0.5, 'Income (\\\\$s)')"
      ]
     },
     "execution_count": 10,
     "metadata": {},
     "output_type": "execute_result"
    },
    {
     "data": {
      "image/png": "[encoded data removed]",
      "text/plain": [
       "<Figure size 432x288 with 1 Axes>"
      ]
     },
     "metadata": {
      "needs_background": "light"
     },
     "output_type": "display_data"
    }
   ],
   "source": [
    "# Plotting one income path \n",
    "%matplotlib inline\n",
    "year_vec = np.arange(p['st_year'], p['st_year'] + p['lf_years'])\n",
    "individual = 2\n",
    "fig, ax = plt.subplots()\n",
    "plt.plot(year_vec, ln_income_matrix[:, individual])\n",
    "minorLocator = MultipleLocator(1)\n",
    "ax.xaxis.set_minor_locator(minorLocator)\n",
    "plt.grid(b=True, which='major', color='0.65', linestyle='-')\n",
    "plt.title('Individual simulated lifetime income path', fontsize=10)\n",
    "plt.xlabel(r'Year $t$')\n",
    "plt.ylabel(r'Income (\\$s)')"
   ]
  },
  {
   "cell_type": "markdown",
   "metadata": {},
   "source": [
    "#### Part (b): Plot a histogram and calculate percentages of the class "
   ]
  },
  {
   "cell_type": "code",
   "execution_count": 11,
   "metadata": {},
   "outputs": [
    {
     "data": {
      "text/plain": [
       "Text(0.5, 1.0, 'Histrogram of initial income for each of the 10,000 simulations')"
      ]
     },
     "execution_count": 11,
     "metadata": {},
     "output_type": "execute_result"
    },
    {
     "data": {
      "image/png": "[encoded data removed]",
      "text/plain": [
       "<Figure size 432x288 with 1 Axes>"
      ]
     },
     "metadata": {
      "needs_background": "light"
     },
     "output_type": "display_data"
    }
   ],
   "source": [
    "plt.hist(ln_income_matrix[0,:], bins=50)\n",
    "plt.xlabel(\"Income Distribution\")\n",
    "plt.title(\"Histrogram of initial income for each of the 10,000 simulations\")"
   ]
  },
  {
   "cell_type": "code",
   "execution_count": 12,
   "metadata": {},
   "outputs": [
    {
     "data": {
      "text/plain": [
       "134881.70610587983"
      ]
     },
     "execution_count": 12,
     "metadata": {},
     "output_type": "execute_result"
    }
   ],
   "source": [
    "np.mean(ln_income_matrix)"
   ]
  },
  {
   "cell_type": "code",
   "execution_count": 13,
   "metadata": {},
   "outputs": [
    {
     "data": {
      "text/plain": [
       "128097.2995056228"
      ]
     },
     "execution_count": 13,
     "metadata": {},
     "output_type": "execute_result"
    }
   ],
   "source": [
    "np.median(ln_income_matrix)"
   ]
  },
  {
   "cell_type": "markdown",
   "metadata": {},
   "source": [
    "Because we found that mean is greater than median, this distribution is right skewed. "
   ]
  },
  {
   "cell_type": "markdown",
   "metadata": {},
   "source": [
    "#### Percentage of class who will earn more than 100,000 dollars"
   ]
  },
  {
   "cell_type": "code",
   "execution_count": 14,
   "metadata": {},
   "outputs": [
    {
     "data": {
      "text/plain": [
       "0.0417"
      ]
     },
     "execution_count": 14,
     "metadata": {},
     "output_type": "execute_result"
    }
   ],
   "source": [
    "len(ln_income_matrix[0, :] [ln_income_matrix[0, :] > 100000]) / len(ln_income_matrix[0, :])"
   ]
  },
  {
   "cell_type": "markdown",
   "metadata": {},
   "source": [
    "The percentage of class who will earn more than 100,000 dollars is 4.17%."
   ]
  },
  {
   "cell_type": "markdown",
   "metadata": {},
   "source": [
    "#### Percentage of class who will earn less than 70,000 dollars"
   ]
  },
  {
   "cell_type": "code",
   "execution_count": 15,
   "metadata": {},
   "outputs": [
    {
     "data": {
      "text/plain": [
       "0.1512"
      ]
     },
     "execution_count": 15,
     "metadata": {},
     "output_type": "execute_result"
    }
   ],
   "source": [
    "len(ln_income_matrix[0, :] [ln_income_matrix[0, :] < 70000]) / len(ln_income_matrix[0, :])"
   ]
  },
  {
   "cell_type": "markdown",
   "metadata": {},
   "source": [
    "The percentage of class who will less than 70,000 dollars is 15.12%."
   ]
  },
  {
   "cell_type": "markdown",
   "metadata": {},
   "source": [
    "#### Part (C): Simulate debt payoff with the starting salary of 80,000 dollars"
   ]
  },
  {
   "cell_type": "code",
   "execution_count": 16,
   "metadata": {},
   "outputs": [],
   "source": [
    "# write a function to calculate the number of years taken to payoff the debt \n",
    "def year_payoff_debt(principle, salary_list):\n",
    "    year = 0\n",
    "    for j in salary_list:\n",
    "        if principle > 0: \n",
    "            new_principle = principle - (0.1) * (j)\n",
    "            principle = new_principle\n",
    "            year += 1\n",
    "        else:\n",
    "            break\n",
    "    return year"
   ]
  },
  {
   "cell_type": "code",
   "execution_count": 17,
   "metadata": {},
   "outputs": [
    {
     "data": {
      "text/plain": [
       "array([ 66409.15585396,  80020.53020329,  75805.26636606,  88075.02653366,\n",
       "       106861.63415772, 109595.32218589,  91254.89677608, 109756.18886287,\n",
       "        90737.58945859,  86940.93993646,  92663.92019855,  98052.98148884,\n",
       "        81286.30857991,  74947.88506476,  88636.79143603,  81812.31439037,\n",
       "       122584.4464533 , 141450.04880919, 165005.91290055, 153472.7195347 ,\n",
       "       144853.8589323 , 132509.14721066, 126880.53955683, 116396.88000257,\n",
       "       125635.36389956, 140207.1445515 , 210435.37935251, 189343.85289387,\n",
       "       182646.86442959, 216001.57150949, 212982.60688553, 209937.61980641,\n",
       "       155059.70836031, 148085.1913182 , 168596.47052775, 215862.03092573,\n",
       "       195034.75599749, 272690.56519108, 231539.17420799, 197895.95201384])"
      ]
     },
     "execution_count": 17,
     "metadata": {},
     "output_type": "execute_result"
    }
   ],
   "source": [
    "# Check income matrix of the first set of simulated income \n",
    "ln_income_matrix[:, 0]"
   ]
  },
  {
   "cell_type": "code",
   "execution_count": 18,
   "metadata": {},
   "outputs": [],
   "source": [
    "all_year = [] \n",
    "for i in range(0, p['num_draws']): \n",
    "    year = year_payoff_debt(95000,ln_income_matrix[:, i])\n",
    "    all_year.append(year)"
   ]
  },
  {
   "cell_type": "code",
   "execution_count": 20,
   "metadata": {},
   "outputs": [
    {
     "name": "stdout",
     "output_type": "stream",
     "text": [
      "minimum number of years is 9\n",
      "maximum number of years is 13\n"
     ]
    }
   ],
   "source": [
    "print(\"minimum number of years is\", min(all_year))\n",
    "print(\"maximum number of years is\", max(all_year))"
   ]
  },
  {
   "cell_type": "code",
   "execution_count": 21,
   "metadata": {},
   "outputs": [
    {
     "data": {
      "text/plain": [
       "Text(0.5, 1.0, 'Histrogram of number of years taken to pay off debt')"
      ]
     },
     "execution_count": 21,
     "metadata": {},
     "output_type": "execute_result"
    },
    {
     "data": {
      "image/png": "[encoded data removed]",
      "text/plain": [
       "<Figure size 432x288 with 1 Axes>"
      ]
     },
     "metadata": {
      "needs_background": "light"
     },
     "output_type": "display_data"
    }
   ],
   "source": [
    "plt.hist(all_year, bins=5)\n",
    "plt.xlabel(\"Number of Years\")\n",
    "plt.title(\"Histrogram of number of years taken to pay off debt\")"
   ]
  },
  {
   "cell_type": "code",
   "execution_count": 22,
   "metadata": {},
   "outputs": [],
   "source": [
    "payoff_ten_years = [x for x in all_year if x <= 10]"
   ]
  },
  {
   "cell_type": "code",
   "execution_count": 23,
   "metadata": {},
   "outputs": [
    {
     "data": {
      "text/plain": [
       "0.1678"
      ]
     },
     "execution_count": 23,
     "metadata": {},
     "output_type": "execute_result"
    }
   ],
   "source": [
    "# Calculate the percentage of the simulations\n",
    "len(payoff_ten_years) / len(all_year)"
   ]
  },
  {
   "cell_type": "markdown",
   "metadata": {},
   "source": [
    "In 16.78 percent of the simulations, I will be able to pay off $ 95,000 debt in ten years. "
   ]
  },
  {
   "cell_type": "markdown",
   "metadata": {},
   "source": [
    "### Part (d): Simulate debt payoff with the starting salary of 90,000 dollars"
   ]
  },
  {
   "cell_type": "code",
   "execution_count": 24,
   "metadata": {},
   "outputs": [],
   "source": [
    "new_p = {\n",
    "    'w0': 90000,\n",
    "    'gr': 0.025, \n",
    "    'st_year': 2020,\n",
    "    'lf_years': 40,\n",
    "    'num_draws': 10000, \n",
    "    'rho': 0.4,\n",
    "    'mean': 0,\n",
    "    'sd': 0.17,\n",
    "    'size': (40,10000) \n",
    "}"
   ]
  },
  {
   "cell_type": "code",
   "execution_count": 25,
   "metadata": {},
   "outputs": [],
   "source": [
    "np.random.seed(524)\n",
    "new_errors = np.random.normal(new_p['mean'], new_p['sd'], new_p['size'])"
   ]
  },
  {
   "cell_type": "code",
   "execution_count": 26,
   "metadata": {},
   "outputs": [],
   "source": [
    "new_ln_income_matrix = np.zeros((new_p['lf_years'], new_p['num_draws']))\n",
    "new_ln_income_matrix[0, :] = np.log(new_p['w0']) + new_errors[0, :]"
   ]
  },
  {
   "cell_type": "code",
   "execution_count": 27,
   "metadata": {},
   "outputs": [
    {
     "data": {
      "text/plain": [
       "array([[ 70550.46142451, 117783.33011091, 123561.20729139, ...,\n",
       "        118483.24080508,  78992.81966812,  73764.25171169],\n",
       "       [ 89615.63768821,  71575.56495871,  96317.75493523, ...,\n",
       "         72778.88084775,  81644.3347736 ,  90400.57899801],\n",
       "       [ 82955.30101689,  69396.06916251, 106035.55593099, ...,\n",
       "         70956.3661129 , 103848.93176006,  89949.09077038],\n",
       "       ...,\n",
       "       [338309.11761165, 252187.52025149, 203293.03644369, ...,\n",
       "        168361.21927259, 308250.29858492, 240024.49205936],\n",
       "       [271061.07048342, 227502.32436192, 220836.5697397 , ...,\n",
       "        223095.32811759, 239983.96514044, 231788.44418303],\n",
       "       [219057.46748997, 172865.33333479, 183245.71710131, ...,\n",
       "        295275.8618388 , 273090.00167035, 253934.86273481]])"
      ]
     },
     "execution_count": 27,
     "metadata": {},
     "output_type": "execute_result"
    }
   ],
   "source": [
    "for yr in range(1, new_p['lf_years']):\n",
    "    new_ln_income_matrix[yr, :] = (1 - p['rho'])*(np.log(new_p['w0']) + new_p['gr']*yr) + \\\n",
    "         p['rho']*(new_ln_income_matrix[yr-1, :]) + new_errors[yr, :]\n",
    "new_income_matrix = np.exp(new_ln_income_matrix)\n",
    "new_income_matrix"
   ]
  },
  {
   "cell_type": "code",
   "execution_count": 28,
   "metadata": {},
   "outputs": [],
   "source": [
    "new_all_year = [] \n",
    "for i in range(0, p['num_draws']): \n",
    "    year = year_payoff_debt(95000,new_income_matrix[:, i])\n",
    "    new_all_year.append(year)"
   ]
  },
  {
   "cell_type": "code",
   "execution_count": 29,
   "metadata": {},
   "outputs": [
    {
     "name": "stdout",
     "output_type": "stream",
     "text": [
      "minimum number of years is 7\n",
      "maximum number of years is 13\n"
     ]
    }
   ],
   "source": [
    "print(\"minimum number of years is\", min(new_all_year))\n",
    "print(\"maximum number of years is\", max(new_all_year))"
   ]
  },
  {
   "cell_type": "code",
   "execution_count": 30,
   "metadata": {},
   "outputs": [
    {
     "data": {
      "text/plain": [
       "Text(0.5, 1.0, 'Histrogram of number of years taken to pay off debt')"
      ]
     },
     "execution_count": 30,
     "metadata": {},
     "output_type": "execute_result"
    },
    {
     "data": {
      "image/png": "[encoded data removed]",
      "text/plain": [
       "<Figure size 432x288 with 1 Axes>"
      ]
     },
     "metadata": {
      "needs_background": "light"
     },
     "output_type": "display_data"
    }
   ],
   "source": [
    "plt.hist(new_all_year, bins=5)\n",
    "plt.xlabel(\"Number of Years\")\n",
    "plt.title(\"Histrogram of number of years taken to pay off debt\")"
   ]
  },
  {
   "cell_type": "code",
   "execution_count": 31,
   "metadata": {},
   "outputs": [],
   "source": [
    "new_payoff_ten_years = [x for x in new_all_year if x <= 10]"
   ]
  },
  {
   "cell_type": "code",
   "execution_count": 32,
   "metadata": {},
   "outputs": [
    {
     "data": {
      "text/plain": [
       "0.7602"
      ]
     },
     "execution_count": 32,
     "metadata": {},
     "output_type": "execute_result"
    }
   ],
   "source": [
    "len(new_payoff_ten_years) / len(new_all_year)"
   ]
  },
  {
   "cell_type": "markdown",
   "metadata": {},
   "source": [
    "In 76.02 percent of the simulations, I will be able to pay off the debt in 10 years. "
   ]
  }
 ],
 "metadata": {
  "kernelspec": {
   "display_name": "Python 3",
   "language": "python",
   "name": "python3"
  },
  "language_info": {
   "codemirror_mode": {
    "name": "ipython",
    "version": 3
   },
   "file_extension": ".py",
   "mimetype": "text/x-python",
   "name": "python",
   "nbconvert_exporter": "python",
   "pygments_lexer": "ipython3",
   "version": "3.7.0"
  }
 },
 "nbformat": 4,
 "nbformat_minor": 2
}
